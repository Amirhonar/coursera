{
 "cells": [
  {
   "cell_type": "markdown",
   "id": "29ea587f-40ec-450d-8cd9-3939c02dafc1",
   "metadata": {},
   "source": [
    "# Data Science Tools and Ecosystem\r\n"
   ]
  },
  {
   "cell_type": "markdown",
   "id": "06ba9ce2-3afd-4af5-ac3e-9e7e6c07004e",
   "metadata": {},
   "source": [
    "In this notebook, Data Science Tools and Ecosystem are summarized."
   ]
  },
  {
   "cell_type": "markdown",
   "id": "38c44b4b-d962-4413-b6d6-33e211c60041",
   "metadata": {},
   "source": [
    "**Objectives:**\r\n",
    "\r\n",
    "- List popular languages for Data Science\r\n",
    "- Understand the use of different Data Science tools\r\n",
    "- Learn how to perform basic arithmetic operations in Python\r\n",
    "- Convert units, like minutes to hours\r\n",
    "- Create and format Markdown cells in Jupyter Notebook\r\n"
   ]
  },
  {
   "cell_type": "markdown",
   "id": "1c60cda1-5a56-4e99-962f-2958d9b4d770",
   "metadata": {},
   "source": [
    "Some of the popular languages that Data Scientists use are:\r\n",
    "\r\n",
    "1. Python\r\n",
    "2. R\r\n",
    "3. SQL\r\n",
    "4. Julia\r\n"
   ]
  },
  {
   "cell_type": "markdown",
   "id": "0e4fb38d-3949-44b2-b1f4-aa096f723a5b",
   "metadata": {},
   "source": [
    "Some of the commonly used libraries used by Data Scientists include:\n",
    "\n",
    "1. numpy\n",
    "2. pandas\n",
    "3. tensorflow\n",
    "   \n"
   ]
  },
  {
   "cell_type": "markdown",
   "id": "1f56a90d-1ed1-4913-a866-853261faf0e7",
   "metadata": {},
   "source": [
    "| Data Science Tools |\r\n",
    "|--------------------|\r\n",
    "| Jupyter Notebook   |\r\n",
    "| RStudio            |\r\n",
    "| Apache Zeppelin    |\r\n"
   ]
  },
  {
   "cell_type": "markdown",
   "id": "31ce6065-8aa0-48d5-b28d-36c2df0c2618",
   "metadata": {},
   "source": [
    "### Below are a few examples of evaluating arithmetic expressions in Python\r\n"
   ]
  },
  {
   "cell_type": "code",
   "execution_count": 2,
   "id": "e76863dc-9310-4f1f-a743-7427c6bf0465",
   "metadata": {},
   "outputs": [
    {
     "data": {
      "text/plain": [
       "17"
      ]
     },
     "execution_count": 2,
     "metadata": {},
     "output_type": "execute_result"
    }
   ],
   "source": [
    "# This is a simple arithmetic expression to multiply then add integers\n",
    "result = (3 * 4) + 5\n",
    "result\n"
   ]
  },
  {
   "cell_type": "code",
   "execution_count": 3,
   "id": "66d7501f-d254-47cf-825c-c256e3e4b936",
   "metadata": {},
   "outputs": [
    {
     "data": {
      "text/plain": [
       "3.3333333333333335"
      ]
     },
     "execution_count": 3,
     "metadata": {},
     "output_type": "execute_result"
    }
   ],
   "source": [
    "# This will convert 200 minutes to hours by dividing by 60\n",
    "minutes = 200\n",
    "hours = minutes / 60\n",
    "hours"
   ]
  },
  {
   "cell_type": "markdown",
   "id": "61aa0047-7fa6-4005-a4aa-0d7362b10e1b",
   "metadata": {},
   "source": [
    "## Author\r",
    "Amir Honarpour\r\n"
   ]
  },
  {
   "cell_type": "code",
   "execution_count": null,
   "id": "7b5614a8-d2e2-48e6-97a9-0eb54b11daae",
   "metadata": {},
   "outputs": [],
   "source": []
  }
 ],
 "metadata": {
  "kernelspec": {
   "display_name": "Python 3 (ipykernel)",
   "language": "python",
   "name": "python3"
  },
  "language_info": {
   "codemirror_mode": {
    "name": "ipython",
    "version": 3
   },
   "file_extension": ".py",
   "mimetype": "text/x-python",
   "name": "python",
   "nbconvert_exporter": "python",
   "pygments_lexer": "ipython3",
   "version": "3.11.2"
  }
 },
 "nbformat": 4,
 "nbformat_minor": 5
}
